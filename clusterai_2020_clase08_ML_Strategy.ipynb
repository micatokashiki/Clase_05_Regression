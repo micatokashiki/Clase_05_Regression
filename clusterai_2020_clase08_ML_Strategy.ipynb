{
 "cells": [
  {
   "cell_type": "markdown",
   "metadata": {},
   "source": [
    "# ClusterAI 2020 - Ciencia de Datos - UTN BA \n",
    "# ML Strategy (Práctica, clase_08)\n",
    "\n",
    "### Alumna: Tokashiki, Micaela F.\n",
    "______"
   ]
  },
  {
   "cell_type": "markdown",
   "metadata": {},
   "source": [
    "# Importamos librerías y sets (train y test)"
   ]
  },
  {
   "cell_type": "code",
   "execution_count": 1,
   "metadata": {},
   "outputs": [],
   "source": [
    "import numpy as np\n",
    "import pandas as pd\n",
    "import matplotlib.pyplot as plt\n",
    "import seaborn as sns"
   ]
  },
  {
   "cell_type": "code",
   "execution_count": 2,
   "metadata": {},
   "outputs": [
    {
     "data": {
      "text/html": [
       "<div>\n",
       "<style scoped>\n",
       "    .dataframe tbody tr th:only-of-type {\n",
       "        vertical-align: middle;\n",
       "    }\n",
       "\n",
       "    .dataframe tbody tr th {\n",
       "        vertical-align: top;\n",
       "    }\n",
       "\n",
       "    .dataframe thead th {\n",
       "        text-align: right;\n",
       "    }\n",
       "</style>\n",
       "<table border=\"1\" class=\"dataframe\">\n",
       "  <thead>\n",
       "    <tr style=\"text-align: right;\">\n",
       "      <th></th>\n",
       "      <th>X</th>\n",
       "      <th>y</th>\n",
       "    </tr>\n",
       "  </thead>\n",
       "  <tbody>\n",
       "    <tr>\n",
       "      <th>0</th>\n",
       "      <td>2.273360</td>\n",
       "      <td>6.054685</td>\n",
       "    </tr>\n",
       "    <tr>\n",
       "      <th>1</th>\n",
       "      <td>3.167583</td>\n",
       "      <td>4.581428</td>\n",
       "    </tr>\n",
       "    <tr>\n",
       "      <th>2</th>\n",
       "      <td>7.973655</td>\n",
       "      <td>5.392507</td>\n",
       "    </tr>\n",
       "    <tr>\n",
       "      <th>3</th>\n",
       "      <td>6.762547</td>\n",
       "      <td>3.108068</td>\n",
       "    </tr>\n",
       "    <tr>\n",
       "      <th>4</th>\n",
       "      <td>3.911096</td>\n",
       "      <td>4.225744</td>\n",
       "    </tr>\n",
       "  </tbody>\n",
       "</table>\n",
       "</div>"
      ],
      "text/plain": [
       "          X         y\n",
       "0  2.273360  6.054685\n",
       "1  3.167583  4.581428\n",
       "2  7.973655  5.392507\n",
       "3  6.762547  3.108068\n",
       "4  3.911096  4.225744"
      ]
     },
     "execution_count": 2,
     "metadata": {},
     "output_type": "execute_result"
    }
   ],
   "source": [
    "Xy_train = pd.read_csv('Xy_train.csv')\n",
    "Xy_train.head()"
   ]
  },
  {
   "cell_type": "code",
   "execution_count": 3,
   "metadata": {},
   "outputs": [],
   "source": [
    "# Separamos en X_train e y_train\n",
    "X_train = Xy_train.iloc[:,0:1]\n",
    "y_train = Xy_train.iloc[:,1::1]"
   ]
  },
  {
   "cell_type": "code",
   "execution_count": 4,
   "metadata": {},
   "outputs": [
    {
     "data": {
      "text/plain": [
       "(20, 1)"
      ]
     },
     "execution_count": 4,
     "metadata": {},
     "output_type": "execute_result"
    }
   ],
   "source": [
    "X_test = pd.read_csv('X_test.csv')\n",
    "X_test.shape"
   ]
  },
  {
   "cell_type": "code",
   "execution_count": 7,
   "metadata": {},
   "outputs": [
    {
     "data": {
      "image/png": "[encoded data removed]",
      "text/plain": [
       "<Figure size 576x576 with 1 Axes>"
      ]
     },
     "metadata": {},
     "output_type": "display_data"
    }
   ],
   "source": [
    "plt.figure(figsize = (8,8))\n",
    "plt.scatter(X_train,y_train)\n",
    "plt.title('Ploteo datase entrenamiento sin escalar')\n",
    "sns.set_style('dark')\n",
    "plt.show()"
   ]
  },
  {
   "cell_type": "markdown",
   "metadata": {},
   "source": [
    "## Asignación:\n",
    "Utilizando el training set provisto entrenar un modelo de regresión y predecir los valores para un nuevo set de inputs (test set)\n",
    "\n",
    "#### Medida de evaluación:\n",
    "MSE: Mean Squared Error"
   ]
  },
  {
   "cell_type": "code",
   "execution_count": 8,
   "metadata": {},
   "outputs": [],
   "source": [
    "# Estandarizar set de entrenamiento\n",
    "from sklearn import preprocessing\n",
    "scaler = preprocessing.StandardScaler().fit(X_train)"
   ]
  },
  {
   "cell_type": "code",
   "execution_count": 9,
   "metadata": {},
   "outputs": [],
   "source": [
    "# Escalar luego de fitear\n",
    "x_train_scaled = scaler.transform(X_train)\n",
    "x_test_scaled = scaler.transform(X_test)"
   ]
  },
  {
   "cell_type": "code",
   "execution_count": 10,
   "metadata": {},
   "outputs": [],
   "source": [
    "# Genero df para guardar y comparar resultados\n",
    "rdos = pd.DataFrame(columns = ['Método','Y predicted'])"
   ]
  },
  {
   "cell_type": "markdown",
   "metadata": {},
   "source": [
    "Por la gráfica obtenida anteriormente, se descarta rápidamente un modelo de regresión lineal (y por ende también Ridge)\n",
    "\n",
    "# KNN Regression"
   ]
  },
  {
   "cell_type": "code",
   "execution_count": 11,
   "metadata": {},
   "outputs": [],
   "source": [
    "from sklearn.neighbors import KNeighborsRegressor\n",
    "from sklearn.model_selection import GridSearchCV\n",
    "\n",
    "est_knn = KNeighborsRegressor()"
   ]
  },
  {
   "cell_type": "code",
   "execution_count": 12,
   "metadata": {},
   "outputs": [],
   "source": [
    "parameters_k = np.arange(1,50)\n",
    "parameters_knn = [{'n_neighbors':parameters_k}]\n",
    "\n",
    "gs_knn = GridSearchCV(est_knn,\n",
    "                      param_grid=parameters_knn,\n",
    "                      refit=True,\n",
    "                      cv=5,\n",
    "                      n_jobs=50,\n",
    "                      scoring='neg_mean_squared_error')"
   ]
  },
  {
   "cell_type": "code",
   "execution_count": 13,
   "metadata": {},
   "outputs": [
    {
     "data": {
      "text/plain": [
       "GridSearchCV(cv=5, estimator=KNeighborsRegressor(), n_jobs=50,\n",
       "             param_grid=[{'n_neighbors': array([ 1,  2,  3,  4,  5,  6,  7,  8,  9, 10, 11, 12, 13, 14, 15, 16, 17,\n",
       "       18, 19, 20, 21, 22, 23, 24, 25, 26, 27, 28, 29, 30, 31, 32, 33, 34,\n",
       "       35, 36, 37, 38, 39, 40, 41, 42, 43, 44, 45, 46, 47, 48, 49])}],\n",
       "             scoring='neg_mean_squared_error')"
      ]
     },
     "execution_count": 13,
     "metadata": {},
     "output_type": "execute_result"
    }
   ],
   "source": [
    "gs_knn.fit(x_train_scaled,y_train)"
   ]
  },
  {
   "cell_type": "code",
   "execution_count": 14,
   "metadata": {},
   "outputs": [
    {
     "name": "stdout",
     "output_type": "stream",
     "text": [
      "{'n_neighbors': 5}\n",
      "-0.8703947992745912\n"
     ]
    }
   ],
   "source": [
    "print(gs_knn.best_params_)\n",
    "print(gs_knn.best_score_)"
   ]
  },
  {
   "cell_type": "code",
   "execution_count": 15,
   "metadata": {},
   "outputs": [],
   "source": [
    "pred_knn = gs_knn.best_estimator_.predict(x_test_scaled)\n",
    "pred_knn_list = []\n",
    "\n",
    "for item in pred_knn:\n",
    "    pred_knn_list.append(float(item))"
   ]
  },
  {
   "cell_type": "code",
   "execution_count": 16,
   "metadata": {
    "hide_input": false
   },
   "outputs": [],
   "source": [
    "pred_knn_list = list(np.around(np.array(pred_knn_list),2))"
   ]
  },
  {
   "cell_type": "code",
   "execution_count": 19,
   "metadata": {},
   "outputs": [
    {
     "data": {
      "image/png": "[encoded data removed]",
      "text/plain": [
       "<Figure size 576x576 with 1 Axes>"
      ]
     },
     "metadata": {},
     "output_type": "display_data"
    }
   ],
   "source": [
    "plt.figure(figsize = (8,8))\n",
    "plt.scatter(x_train_scaled,y_train)\n",
    "plt.scatter(x_test_scaled,pred_knn_list,color='orange')\n",
    "plt.title('Ploteo train y test')\n",
    "plt.show()"
   ]
  },
  {
   "cell_type": "code",
   "execution_count": 20,
   "metadata": {},
   "outputs": [],
   "source": [
    "rdos = rdos.append({'Método':'KNN reg',\n",
    "                    'Y predicted':pred_knn_list}, ignore_index=True)"
   ]
  },
  {
   "cell_type": "markdown",
   "metadata": {},
   "source": [
    "# SVRegressor"
   ]
  },
  {
   "cell_type": "code",
   "execution_count": 21,
   "metadata": {},
   "outputs": [],
   "source": [
    "from sklearn.svm import SVR\n",
    "\n",
    "est_svr = SVR()\n",
    "parameters_svr = [{'kernel':['rbf'],\n",
    "                  'C':[0.001,0.1,0.5,1,2,5,10,50,100],\n",
    "                   'gamma':[0.001,0.1,1,2,5,10,25]}]"
   ]
  },
  {
   "cell_type": "code",
   "execution_count": 22,
   "metadata": {},
   "outputs": [],
   "source": [
    "gs_svr = GridSearchCV(est_svr,\n",
    "                     param_grid=parameters_svr,\n",
    "                     refit=True,\n",
    "                     cv=5,\n",
    "                     n_jobs=50,\n",
    "                     scoring='neg_mean_squared_error')"
   ]
  },
  {
   "cell_type": "code",
   "execution_count": 23,
   "metadata": {},
   "outputs": [
    {
     "name": "stderr",
     "output_type": "stream",
     "text": [
      "D:\\Anaconda\\lib\\site-packages\\sklearn\\utils\\validation.py:73: DataConversionWarning: A column-vector y was passed when a 1d array was expected. Please change the shape of y to (n_samples, ), for example using ravel().\n",
      "  return f(**kwargs)\n"
     ]
    },
    {
     "data": {
      "text/plain": [
       "GridSearchCV(cv=5, estimator=SVR(), n_jobs=50,\n",
       "             param_grid=[{'C': [0.001, 0.1, 0.5, 1, 2, 5, 10, 50, 100],\n",
       "                          'gamma': [0.001, 0.1, 1, 2, 5, 10, 25],\n",
       "                          'kernel': ['rbf']}],\n",
       "             scoring='neg_mean_squared_error')"
      ]
     },
     "execution_count": 23,
     "metadata": {},
     "output_type": "execute_result"
    }
   ],
   "source": [
    "gs_svr.fit(x_train_scaled,y_train)"
   ]
  },
  {
   "cell_type": "code",
   "execution_count": 24,
   "metadata": {},
   "outputs": [
    {
     "name": "stdout",
     "output_type": "stream",
     "text": [
      "{'C': 100, 'gamma': 2, 'kernel': 'rbf'}\n",
      "-0.6234700915526765\n"
     ]
    }
   ],
   "source": [
    "print(gs_svr.best_params_)\n",
    "print(gs_svr.best_score_)"
   ]
  },
  {
   "cell_type": "code",
   "execution_count": 25,
   "metadata": {},
   "outputs": [],
   "source": [
    "# Repito el gridsearch CV, con valores más cercanos a los mejores, igualmente se observa mejor score (en train..)\n",
    "\n",
    "parameters_svr2 = [{'kernel':['rbf'],\n",
    "                  'C':[50,75,85,95,100,105,110,115,120,150],\n",
    "                   'gamma':[0.1,1,1.5,1.7,1.9,2,2.5,3,3.5]}]"
   ]
  },
  {
   "cell_type": "code",
   "execution_count": 26,
   "metadata": {},
   "outputs": [],
   "source": [
    "gs_svr2 = GridSearchCV(est_svr,\n",
    "                     param_grid=parameters_svr2,\n",
    "                     refit=True,\n",
    "                     cv=5,\n",
    "                     n_jobs=50,\n",
    "                     scoring='neg_mean_squared_error')"
   ]
  },
  {
   "cell_type": "code",
   "execution_count": 27,
   "metadata": {},
   "outputs": [
    {
     "name": "stderr",
     "output_type": "stream",
     "text": [
      "D:\\Anaconda\\lib\\site-packages\\sklearn\\utils\\validation.py:73: DataConversionWarning: A column-vector y was passed when a 1d array was expected. Please change the shape of y to (n_samples, ), for example using ravel().\n",
      "  return f(**kwargs)\n"
     ]
    },
    {
     "data": {
      "text/plain": [
       "GridSearchCV(cv=5, estimator=SVR(), n_jobs=50,\n",
       "             param_grid=[{'C': [50, 75, 85, 95, 100, 105, 110, 115, 120, 150],\n",
       "                          'gamma': [0.1, 1, 1.5, 1.7, 1.9, 2, 2.5, 3, 3.5],\n",
       "                          'kernel': ['rbf']}],\n",
       "             scoring='neg_mean_squared_error')"
      ]
     },
     "execution_count": 27,
     "metadata": {},
     "output_type": "execute_result"
    }
   ],
   "source": [
    "gs_svr2.fit(x_train_scaled,y_train)"
   ]
  },
  {
   "cell_type": "code",
   "execution_count": 28,
   "metadata": {},
   "outputs": [
    {
     "name": "stdout",
     "output_type": "stream",
     "text": [
      "{'C': 120, 'gamma': 1.5, 'kernel': 'rbf'}\n",
      "-0.6069217285689257\n"
     ]
    }
   ],
   "source": [
    "print(gs_svr2.best_params_)\n",
    "print(gs_svr2.best_score_)"
   ]
  },
  {
   "cell_type": "code",
   "execution_count": 29,
   "metadata": {},
   "outputs": [],
   "source": [
    "pred_svr = gs_svr2.best_estimator_.predict(x_test_scaled)\n",
    "pred_svr_list = []\n",
    "\n",
    "for item in pred_svr:\n",
    "    pred_svr_list.append(float(item))"
   ]
  },
  {
   "cell_type": "code",
   "execution_count": 30,
   "metadata": {},
   "outputs": [],
   "source": [
    "pred_svr_list = list(np.around(np.array(pred_svr_list),2))"
   ]
  },
  {
   "cell_type": "code",
   "execution_count": 31,
   "metadata": {},
   "outputs": [
    {
     "data": {
      "text/plain": [
       "<function matplotlib.pyplot.show(*args, **kw)>"
      ]
     },
     "execution_count": 31,
     "metadata": {},
     "output_type": "execute_result"
    },
    {
     "data": {
      "image/png": "[encoded data removed]",
      "text/plain": [
       "<Figure size 576x576 with 1 Axes>"
      ]
     },
     "metadata": {},
     "output_type": "display_data"
    }
   ],
   "source": [
    "plt.figure(figsize = (8,8))\n",
    "plt.scatter(x_train_scaled,y_train)\n",
    "plt.scatter(x_test_scaled,pred_svr_list,color='purple')\n",
    "plt.title('Ploteo train y test')\n",
    "plt.show"
   ]
  },
  {
   "cell_type": "code",
   "execution_count": 32,
   "metadata": {},
   "outputs": [],
   "source": [
    "rdos = rdos.append({'Método':'SVR',\n",
    "                    'Y predicted':pred_svr_list}, ignore_index=True)"
   ]
  },
  {
   "cell_type": "markdown",
   "metadata": {},
   "source": [
    "# Random Forest Regressor"
   ]
  },
  {
   "cell_type": "code",
   "execution_count": 33,
   "metadata": {},
   "outputs": [],
   "source": [
    "from sklearn.ensemble import RandomForestRegressor\n",
    "\n",
    "est_rand = RandomForestRegressor()"
   ]
  },
  {
   "cell_type": "code",
   "execution_count": 34,
   "metadata": {},
   "outputs": [],
   "source": [
    "parameters_rand = {'n_estimators':[1,5,10,20,50,100]}\n",
    "\n",
    "gs_rand = GridSearchCV(est_rand,\n",
    "                       param_grid=parameters_rand,\n",
    "                       refit=True,\n",
    "                       cv=5,\n",
    "                       n_jobs=50,\n",
    "                       scoring='neg_mean_squared_error')"
   ]
  },
  {
   "cell_type": "code",
   "execution_count": 35,
   "metadata": {},
   "outputs": [
    {
     "name": "stderr",
     "output_type": "stream",
     "text": [
      "D:\\Anaconda\\lib\\site-packages\\sklearn\\model_selection\\_search.py:765: DataConversionWarning: A column-vector y was passed when a 1d array was expected. Please change the shape of y to (n_samples,), for example using ravel().\n",
      "  self.best_estimator_.fit(X, y, **fit_params)\n"
     ]
    },
    {
     "data": {
      "text/plain": [
       "GridSearchCV(cv=5, estimator=RandomForestRegressor(), n_jobs=50,\n",
       "             param_grid={'n_estimators': [1, 5, 10, 20, 50, 100]},\n",
       "             scoring='neg_mean_squared_error')"
      ]
     },
     "execution_count": 35,
     "metadata": {},
     "output_type": "execute_result"
    }
   ],
   "source": [
    "gs_rand.fit(x_train_scaled,y_train)"
   ]
  },
  {
   "cell_type": "code",
   "execution_count": 36,
   "metadata": {},
   "outputs": [
    {
     "name": "stdout",
     "output_type": "stream",
     "text": [
      "{'n_estimators': 10}\n",
      "-0.9830790504253614\n"
     ]
    }
   ],
   "source": [
    "print(gs_rand.best_params_)\n",
    "print(gs_rand.best_score_)"
   ]
  },
  {
   "cell_type": "code",
   "execution_count": 37,
   "metadata": {},
   "outputs": [],
   "source": [
    "# Repito el gridsearch con parámetros cercanos al mejor\n",
    "\n",
    "parameters_rand2 = {'n_estimators':[70,80,85,90,95,100,105,110,115,120,150]}\n",
    "\n",
    "gs_rand2 = GridSearchCV(est_rand,\n",
    "                        param_grid=parameters_rand2,\n",
    "                        refit=True,\n",
    "                        cv=5,\n",
    "                        n_jobs=50,\n",
    "                        scoring='neg_mean_squared_error') "
   ]
  },
  {
   "cell_type": "code",
   "execution_count": 38,
   "metadata": {},
   "outputs": [
    {
     "name": "stderr",
     "output_type": "stream",
     "text": [
      "D:\\Anaconda\\lib\\site-packages\\sklearn\\model_selection\\_search.py:765: DataConversionWarning: A column-vector y was passed when a 1d array was expected. Please change the shape of y to (n_samples,), for example using ravel().\n",
      "  self.best_estimator_.fit(X, y, **fit_params)\n"
     ]
    },
    {
     "data": {
      "text/plain": [
       "GridSearchCV(cv=5, estimator=RandomForestRegressor(), n_jobs=50,\n",
       "             param_grid={'n_estimators': [70, 80, 85, 90, 95, 100, 105, 110,\n",
       "                                          115, 120, 150]},\n",
       "             scoring='neg_mean_squared_error')"
      ]
     },
     "execution_count": 38,
     "metadata": {},
     "output_type": "execute_result"
    }
   ],
   "source": [
    "gs_rand2.fit(x_train_scaled,y_train)"
   ]
  },
  {
   "cell_type": "code",
   "execution_count": 39,
   "metadata": {},
   "outputs": [
    {
     "name": "stdout",
     "output_type": "stream",
     "text": [
      "{'n_estimators': 85}\n",
      "-0.9978463228581124\n"
     ]
    }
   ],
   "source": [
    "print(gs_rand2.best_params_)\n",
    "print(gs_rand2.best_score_)"
   ]
  },
  {
   "cell_type": "code",
   "execution_count": 40,
   "metadata": {},
   "outputs": [],
   "source": [
    "pred_rand = gs_rand2.best_estimator_.predict(x_test_scaled)\n",
    "pred_rand_list = []\n",
    "\n",
    "for item in pred_rand:\n",
    "    pred_rand_list.append(float(item))"
   ]
  },
  {
   "cell_type": "code",
   "execution_count": 41,
   "metadata": {},
   "outputs": [],
   "source": [
    "pred_rand_list = list(np.around(np.array(pred_rand_list),2))"
   ]
  },
  {
   "cell_type": "code",
   "execution_count": 42,
   "metadata": {},
   "outputs": [
    {
     "data": {
      "text/plain": [
       "<function matplotlib.pyplot.show(*args, **kw)>"
      ]
     },
     "execution_count": 42,
     "metadata": {},
     "output_type": "execute_result"
    },
    {
     "data": {
      "image/png": "[encoded data removed]",
      "text/plain": [
       "<Figure size 576x576 with 1 Axes>"
      ]
     },
     "metadata": {},
     "output_type": "display_data"
    }
   ],
   "source": [
    "plt.figure(figsize = (8,8))\n",
    "plt.scatter(x_train_scaled,y_train)\n",
    "plt.scatter(x_test_scaled,pred_rand_list,color='red')\n",
    "plt.title('Ploteo train y test')\n",
    "plt.show"
   ]
  },
  {
   "cell_type": "code",
   "execution_count": 43,
   "metadata": {},
   "outputs": [],
   "source": [
    "rdos = rdos.append({'Método':'Random Forest',\n",
    "                    'Y predicted':pred_rand_list}, ignore_index=True)"
   ]
  },
  {
   "cell_type": "markdown",
   "metadata": {},
   "source": [
    "### Selección del modelo más óptimo"
   ]
  },
  {
   "cell_type": "code",
   "execution_count": 44,
   "metadata": {},
   "outputs": [
    {
     "data": {
      "image/png": "[encoded data removed]",
      "text/plain": [
       "<Figure size 576x576 with 1 Axes>"
      ]
     },
     "metadata": {},
     "output_type": "display_data"
    }
   ],
   "source": [
    "plt.figure(figsize = (8,8))\n",
    "plt.scatter(x_train_scaled,y_train,label='Train set',alpha=0.5)\n",
    "plt.scatter(x_test_scaled,pred_knn_list,color='orange',label='KNN Reg')\n",
    "plt.scatter(x_test_scaled,pred_svr_list,color='purple',label='Support Vector Reg')\n",
    "plt.scatter(x_test_scaled,pred_rand_list,color='red',label='Random Forest Reg')\n",
    "plt.xlabel('X')\n",
    "plt.ylabel('Y')\n",
    "plt.legend()\n",
    "plt.show()"
   ]
  },
  {
   "cell_type": "markdown",
   "metadata": {},
   "source": [
    "El modelo seleccionado es el <span class=\"mark\">SVR</span> \n",
    "\n",
    "Con los siguientes hiper parámetros: \n",
    "- C: 120\n",
    "- Gamma: 1.5\n",
    "- Kernel: Gaussiano (rbf)"
   ]
  },
  {
   "cell_type": "code",
   "execution_count": 45,
   "metadata": {},
   "outputs": [
    {
     "name": "stdout",
     "output_type": "stream",
     "text": [
      "[3.21, 3.22, 7.43, 5.25, 5.33, 3.35, 6.81, 0.5, 9.36, 5.33, 5.12, 3.26, 9.56, 2.0, 4.21, 5.92, 4.04, 3.24, 4.16, 3.21]\n"
     ]
    }
   ],
   "source": [
    "print(pred_svr_list)"
   ]
  },
  {
   "cell_type": "code",
   "execution_count": null,
   "metadata": {},
   "outputs": [],
   "source": []
  }
 ],
 "metadata": {
  "hide_input": false,
  "kernelspec": {
   "display_name": "Python 3",
   "language": "python",
   "name": "python3"
  },
  "language_info": {
   "codemirror_mode": {
    "name": "ipython",
    "version": 3
   },
   "file_extension": ".py",
   "mimetype": "text/x-python",
   "name": "python",
   "nbconvert_exporter": "python",
   "pygments_lexer": "ipython3",
   "version": "3.8.3"
  },
  "toc": {
   "base_numbering": 1,
   "nav_menu": {},
   "number_sections": false,
   "sideBar": true,
   "skip_h1_title": false,
   "title_cell": "Table of Contents",
   "title_sidebar": "Contents",
   "toc_cell": false,
   "toc_position": {
    "height": "calc(100% - 180px)",
    "left": "10px",
    "top": "150px",
    "width": "338.222px"
   },
   "toc_section_display": true,
   "toc_window_display": true
  },
  "widgets": {
   "application/vnd.jupyter.widget-state+json": {
    "state": {},
    "version_major": 2,
    "version_minor": 0
   }
  }
 },
 "nbformat": 4,
 "nbformat_minor": 4
}
